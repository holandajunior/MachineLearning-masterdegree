{
 "cells": [
  {
   "cell_type": "markdown",
   "metadata": {},
   "source": [
    "## Neural network - MLP"
   ]
  },
  {
   "cell_type": "code",
   "execution_count": 97,
   "metadata": {
    "collapsed": true
   },
   "outputs": [],
   "source": [
    "import pandas as pd\n",
    "import scipy.io as sio\n",
    "from sklearn.model_selection import train_test_split\n",
    "import matplotlib.pyplot as plt\n",
    "from sklearn.neural_network import MLPClassifier\n",
    "import numpy as np\n",
    "%matplotlib inline"
   ]
  },
  {
   "cell_type": "code",
   "execution_count": 98,
   "metadata": {
    "collapsed": true
   },
   "outputs": [],
   "source": [
    "data = sio.loadmat('ex3data1.mat')"
   ]
  },
  {
   "cell_type": "code",
   "execution_count": 99,
   "metadata": {
    "collapsed": true
   },
   "outputs": [],
   "source": [
    "dataFeatures = data['X']\n",
    "dataClasses = data['T']"
   ]
  },
  {
   "cell_type": "code",
   "execution_count": 100,
   "metadata": {
    "collapsed": true
   },
   "outputs": [],
   "source": [
    "# Spliting Train and Test\n",
    "X_temp, X_test, y_temp, y_test = train_test_split(dataFeatures, dataClasses, test_size=0.10, random_state=4)\n",
    "# Spliting Train and Validation\n",
    "X_train, X_valid, y_train, y_valid = train_test_split(X_temp, y_temp, test_size=0.111)"
   ]
  },
  {
   "cell_type": "code",
   "execution_count": 101,
   "metadata": {},
   "outputs": [
    {
     "name": "stdout",
     "output_type": "stream",
     "text": [
      "Tamanhos Datasets - Treino: 4000 / Validação: 500 / Teste: 500\n"
     ]
    }
   ],
   "source": [
    "print(\"Tamanhos Datasets - Treino: {} / Validação: {} / Teste: {}\".format(len(X_train), len(X_valid), len(X_test)))"
   ]
  },
  {
   "cell_type": "code",
   "execution_count": 102,
   "metadata": {},
   "outputs": [
    {
     "name": "stderr",
     "output_type": "stream",
     "text": [
      "/home/holandajunior/Environment/anaconda3/lib/python3.6/site-packages/sklearn/neural_network/multilayer_perceptron.py:563: ConvergenceWarning: Stochastic Optimizer: Maximum iterations reached and the optimization hasn't converged yet.\n",
      "  % (), ConvergenceWarning)\n"
     ]
    }
   ],
   "source": [
    "l_rate = 0.3\n",
    "epochs = 300\n",
    "\n",
    "model = MLPClassifier(activation='logistic', learning_rate='constant', learning_rate_init=l_rate, max_iter=1, warm_start=True)\n",
    "\n",
    "sumErrorByEpochTrain = []\n",
    "sumErrorByEpochValid = []\n",
    "\n",
    "for epoch in range(1, epochs+1):\n",
    "    \n",
    "    model = model.fit(X_train, y_train)\n",
    "    \n",
    "    predictedTrain = model.predict(X_train)\n",
    "    \n",
    "    sumErrorTrain = ((y_train - predictedTrain)**2).sum()\n",
    "    sumErrorByEpochTrain.append(sumErrorTrain)\n",
    "#     print(\"Treino: Epoca {} - SumError: {}\".format(epoch, sumErrorTrain))\n",
    "    \n",
    "    predictedValid = model.predict(X_valid)\n",
    "    \n",
    "    sumErrorValid = ((y_valid - predictedValid)**2).sum()\n",
    "    sumErrorByEpochValid.append(sumErrorValid)\n",
    "#     print(\"Validação: Epoca {} - SumError: {}\".format(epoch, sumErrorValid))"
   ]
  },
  {
   "cell_type": "markdown",
   "metadata": {},
   "source": [
    "### Gráfico Época x Erro Quadrático"
   ]
  },
  {
   "cell_type": "code",
   "execution_count": 103,
   "metadata": {},
   "outputs": [
    {
     "data": {
      "text/plain": [
       "<matplotlib.text.Text at 0x7f0108354198>"
      ]
     },
     "execution_count": 103,
     "metadata": {},
     "output_type": "execute_result"
    },
    {
     "data": {
      "image/png": "[encoded data removed]",
      "text/plain": [
       "<matplotlib.figure.Figure at 0x7f01083d07f0>"
      ]
     },
     "metadata": {},
     "output_type": "display_data"
    }
   ],
   "source": [
    "plt.plot(range(1,epochs+1), sumErrorByEpochTrain)\n",
    "plt.plot(range(1,epochs+1), sumErrorByEpochValid)\n",
    "plt.legend(['Treino', 'Validação'], loc='upper left')\n",
    "plt.xlabel('Época')\n",
    "plt.ylabel('Erro Quadrático')"
   ]
  },
  {
   "cell_type": "markdown",
   "metadata": {},
   "source": [
    "### O gráfico acima demonstra que o modelo está em constante aprendizado, dado que para cada época o erro quadrático resultante é menor. Importante ressaltar que o erro quadrático do conjunto de validação segue o mesmo comportamento do de treino. Entende-se então que o modelo está aprendendo e generalizando bem, dado que não houve overfitting, pois o erro do conjunto de validação não volta a piorar"
   ]
  },
  {
   "cell_type": "markdown",
   "metadata": {},
   "source": [
    "### Erro de classificação para o conjunto de teste"
   ]
  },
  {
   "cell_type": "code",
   "execution_count": 104,
   "metadata": {},
   "outputs": [
    {
     "name": "stdout",
     "output_type": "stream",
     "text": [
      "Erro de classificação: 0.15400000000000003\n"
     ]
    }
   ],
   "source": [
    "score = model.score(X_test, y_test)\n",
    "print(\"Erro de classificação: {}\".format( 1 - score ))"
   ]
  },
  {
   "cell_type": "markdown",
   "metadata": {},
   "source": [
    "### Com o erro em 15%, percebemos que o modelo teve um ótimo aprendizado, com cerca de 85% de acertos."
   ]
  },
  {
   "cell_type": "code",
   "execution_count": null,
   "metadata": {
    "collapsed": true
   },
   "outputs": [],
   "source": []
  }
 ],
 "metadata": {
  "kernelspec": {
   "display_name": "Python 3",
   "language": "python",
   "name": "python3"
  },
  "language_info": {
   "codemirror_mode": {
    "name": "ipython",
    "version": 3
   },
   "file_extension": ".py",
   "mimetype": "text/x-python",
   "name": "python",
   "nbconvert_exporter": "python",
   "pygments_lexer": "ipython3",
   "version": "3.6.1"
  }
 },
 "nbformat": 4,
 "nbformat_minor": 2
}
