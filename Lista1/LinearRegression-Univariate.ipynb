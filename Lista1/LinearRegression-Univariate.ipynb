{
 "cells": [
  {
   "cell_type": "markdown",
   "metadata": {},
   "source": [
    "# Regressão Linear - Univariada"
   ]
  },
  {
   "cell_type": "code",
   "execution_count": 352,
   "metadata": {},
   "outputs": [
    {
     "data": {
      "text/html": [
       "<div>\n",
       "<style>\n",
       "    .dataframe thead tr:only-child th {\n",
       "        text-align: right;\n",
       "    }\n",
       "\n",
       "    .dataframe thead th {\n",
       "        text-align: left;\n",
       "    }\n",
       "\n",
       "    .dataframe tbody tr th {\n",
       "        vertical-align: top;\n",
       "    }\n",
       "</style>\n",
       "<table border=\"1\" class=\"dataframe\">\n",
       "  <thead>\n",
       "    <tr style=\"text-align: right;\">\n",
       "      <th></th>\n",
       "      <th>feature</th>\n",
       "      <th>label</th>\n",
       "    </tr>\n",
       "  </thead>\n",
       "  <tbody>\n",
       "    <tr>\n",
       "      <th>0</th>\n",
       "      <td>6.1101</td>\n",
       "      <td>17.5920</td>\n",
       "    </tr>\n",
       "    <tr>\n",
       "      <th>1</th>\n",
       "      <td>5.5277</td>\n",
       "      <td>9.1302</td>\n",
       "    </tr>\n",
       "    <tr>\n",
       "      <th>2</th>\n",
       "      <td>8.5186</td>\n",
       "      <td>13.6620</td>\n",
       "    </tr>\n",
       "    <tr>\n",
       "      <th>3</th>\n",
       "      <td>7.0032</td>\n",
       "      <td>11.8540</td>\n",
       "    </tr>\n",
       "    <tr>\n",
       "      <th>4</th>\n",
       "      <td>5.8598</td>\n",
       "      <td>6.8233</td>\n",
       "    </tr>\n",
       "  </tbody>\n",
       "</table>\n",
       "</div>"
      ],
      "text/plain": [
       "   feature    label\n",
       "0   6.1101  17.5920\n",
       "1   5.5277   9.1302\n",
       "2   8.5186  13.6620\n",
       "3   7.0032  11.8540\n",
       "4   5.8598   6.8233"
      ]
     },
     "execution_count": 352,
     "metadata": {},
     "output_type": "execute_result"
    }
   ],
   "source": [
    "import pandas as pd\n",
    "import sklearn as sk\n",
    "import matplotlib.pyplot as plt\n",
    "import numpy as np\n",
    "%matplotlib inline  \n",
    "\n",
    "data = pd.read_csv('ex1data1.txt', header=None, names=['feature', 'label'])\n",
    "data.head()"
   ]
  },
  {
   "cell_type": "code",
   "execution_count": 353,
   "metadata": {},
   "outputs": [
    {
     "data": {
      "text/plain": [
       "<matplotlib.axes._subplots.AxesSubplot at 0x7f257ccea668>"
      ]
     },
     "execution_count": 353,
     "metadata": {},
     "output_type": "execute_result"
    },
    {
     "data": {
      "image/png": "[encoded data removed]",
      "text/plain": [
       "<matplotlib.figure.Figure at 0x7f257d1a70b8>"
      ]
     },
     "metadata": {},
     "output_type": "display_data"
    }
   ],
   "source": [
    "data.plot(kind='scatter', x='feature', y='label')"
   ]
  },
  {
   "cell_type": "markdown",
   "metadata": {},
   "source": [
    "#### Conforme o gráfico acima, percebemos uma relação linear entre o preditor e o resultado. Logo, possivelmente a regressão linear seja um ótimo modelo."
   ]
  },
  {
   "cell_type": "code",
   "execution_count": 354,
   "metadata": {},
   "outputs": [
    {
     "data": {
      "text/html": [
       "<div>\n",
       "<style>\n",
       "    .dataframe thead tr:only-child th {\n",
       "        text-align: right;\n",
       "    }\n",
       "\n",
       "    .dataframe thead th {\n",
       "        text-align: left;\n",
       "    }\n",
       "\n",
       "    .dataframe tbody tr th {\n",
       "        vertical-align: top;\n",
       "    }\n",
       "</style>\n",
       "<table border=\"1\" class=\"dataframe\">\n",
       "  <thead>\n",
       "    <tr style=\"text-align: right;\">\n",
       "      <th></th>\n",
       "      <th>feature</th>\n",
       "      <th>label</th>\n",
       "    </tr>\n",
       "  </thead>\n",
       "  <tbody>\n",
       "    <tr>\n",
       "      <th>feature</th>\n",
       "      <td>1.000000</td>\n",
       "      <td>0.837873</td>\n",
       "    </tr>\n",
       "    <tr>\n",
       "      <th>label</th>\n",
       "      <td>0.837873</td>\n",
       "      <td>1.000000</td>\n",
       "    </tr>\n",
       "  </tbody>\n",
       "</table>\n",
       "</div>"
      ],
      "text/plain": [
       "          feature     label\n",
       "feature  1.000000  0.837873\n",
       "label    0.837873  1.000000"
      ]
     },
     "execution_count": 354,
     "metadata": {},
     "output_type": "execute_result"
    }
   ],
   "source": [
    "data.corr()"
   ]
  },
  {
   "cell_type": "markdown",
   "metadata": {},
   "source": [
    "#### Além disso, calculando a correlação de pearson, o qual mede a correlação linear entre as variáveis, percebemos uma alta correlação entre a feature e label"
   ]
  },
  {
   "cell_type": "code",
   "execution_count": 355,
   "metadata": {},
   "outputs": [],
   "source": [
    "from sklearn.linear_model import SGDRegressor\n",
    "from sklearn.model_selection import train_test_split\n",
    "\n",
    "eta = 0.001\n",
    "epochs = 1000\n",
    "\n",
    "# xTrain, xTest, yTrain, yTest = train_test_split(data['feature'], data['label'], test_size=0.3, random_state=10)\n",
    "\n",
    "sgdRegressor = SGDRegressor(learning_rate='constant', eta0=eta, n_iter=epochs, random_state=10)\n",
    "sgdRegressor.fit(data['feature'].values.reshape(-1,1), data['label'])\n",
    "\n",
    "xTestReshaped = xTest.values.reshape(-1, 1)\n",
    "predicts = sgdRegressor.predict(xTestReshaped)"
   ]
  },
  {
   "cell_type": "code",
   "execution_count": 361,
   "metadata": {},
   "outputs": [
    {
     "name": "stdout",
     "output_type": "stream",
     "text": [
      "[-3.92593757]\n",
      "[ 1.21292742]\n"
     ]
    }
   ],
   "source": [
    "print(sgdRegressor.intercept_)\n",
    "print(sgdRegressor.coef_)"
   ]
  },
  {
   "cell_type": "code",
   "execution_count": 357,
   "metadata": {},
   "outputs": [
    {
     "data": {
      "text/plain": [
       "[<matplotlib.lines.Line2D at 0x7f257cbe2710>]"
      ]
     },
     "execution_count": 357,
     "metadata": {},
     "output_type": "execute_result"
    },
    {
     "data": {
      "image/png": "[encoded data removed]",
      "text/plain": [
       "<matplotlib.figure.Figure at 0x7f257cbe2438>"
      ]
     },
     "metadata": {},
     "output_type": "display_data"
    }
   ],
   "source": [
    "plt.scatter(data['feature'], data['label'])\n",
    "plt.plot(xTest, predicts, '-')"
   ]
  },
  {
   "cell_type": "code",
   "execution_count": 362,
   "metadata": {},
   "outputs": [
    {
     "name": "stdout",
     "output_type": "stream",
     "text": [
      "Coeficientes: [-3.80706676  1.01980598]\n"
     ]
    },
    {
     "data": {
      "image/png": "[encoded data removed]",
      "text/plain": [
       "<matplotlib.figure.Figure at 0x7f257ca8c1d0>"
      ]
     },
     "metadata": {},
     "output_type": "display_data"
    }
   ],
   "source": [
    "from sklearn.utils import shuffle\n",
    "\n",
    "eta = 0.001\n",
    "errors = []\n",
    "\n",
    "def predict(X, theta):\n",
    "    return theta[0] + np.dot(X, theta[1:])\n",
    "\n",
    "def sgd(X, y, eta, epochs):\n",
    "    theta = np.random.randn(1 + xTestReshaped.shape[1])\n",
    "\n",
    "    for epoch in range(epochs):\n",
    "        sum_error = 0\n",
    "        \n",
    "        for f, target in zip(X,y):\n",
    "            ypred = predict(f, theta)\n",
    "            error = target - ypred[0]\n",
    "            sum_error += error**2\n",
    "            update = eta * error\n",
    "            \n",
    "            theta[0] += update\n",
    "            theta[1:] += update * f\n",
    "            \n",
    "        \n",
    "        errors.append(sum_error/X.shape[0])\n",
    "    \n",
    "    return theta\n",
    "\n",
    "theta = sgd(data['feature'], data['label'], eta, epochs)\n",
    "errors = np.array(errors)\n",
    "\n",
    "plt.plot(np.arange(1, errors.shape[0]+1), errors, '-')\n",
    "plt.title(\"Épocas x EQM\")\n",
    "plt.xlabel('Épocas')\n",
    "plt.ylabel('EQM')\n",
    "print(\"Coeficientes: {}\".format(theta))"
   ]
  },
  {
   "cell_type": "markdown",
   "metadata": {
    "collapsed": true
   },
   "source": [
    "### Como apresentado acima, temos os coeficientes iguais a: -3.80706676 e 1.01980598. Percebemos com o gráfico que o algoritmo, a cada época, diminui o valor EQM, logo representa que os erros estão cada vez menores, significando que está aprendendo. No entanto, o aprendizado é substancial até um certo limite, pois a partir da época 180, aproximadamente, o aprendizado é minimo."
   ]
  },
  {
   "cell_type": "code",
   "execution_count": null,
   "metadata": {
    "collapsed": true
   },
   "outputs": [],
   "source": []
  }
 ],
 "metadata": {
  "kernelspec": {
   "display_name": "Python 3",
   "language": "python",
   "name": "python3"
  },
  "language_info": {
   "codemirror_mode": {
    "name": "ipython",
    "version": 3
   },
   "file_extension": ".py",
   "mimetype": "text/x-python",
   "name": "python",
   "nbconvert_exporter": "python",
   "pygments_lexer": "ipython3",
   "version": "3.6.1"
  }
 },
 "nbformat": 4,
 "nbformat_minor": 2
}
