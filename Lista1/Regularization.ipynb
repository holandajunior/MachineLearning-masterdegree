{
 "cells": [
  {
   "cell_type": "markdown",
   "metadata": {},
   "source": [
    "# Regularização"
   ]
  },
  {
   "cell_type": "code",
   "execution_count": 139,
   "metadata": {},
   "outputs": [
    {
     "data": {
      "text/html": [
       "<div>\n",
       "<style>\n",
       "    .dataframe thead tr:only-child th {\n",
       "        text-align: right;\n",
       "    }\n",
       "\n",
       "    .dataframe thead th {\n",
       "        text-align: left;\n",
       "    }\n",
       "\n",
       "    .dataframe tbody tr th {\n",
       "        vertical-align: top;\n",
       "    }\n",
       "</style>\n",
       "<table border=\"1\" class=\"dataframe\">\n",
       "  <thead>\n",
       "    <tr style=\"text-align: right;\">\n",
       "      <th></th>\n",
       "      <th>f1</th>\n",
       "      <th>f2</th>\n",
       "      <th>f3</th>\n",
       "      <th>f4</th>\n",
       "      <th>f5</th>\n",
       "      <th>price</th>\n",
       "    </tr>\n",
       "  </thead>\n",
       "  <tbody>\n",
       "    <tr>\n",
       "      <th>0</th>\n",
       "      <td>2.104</td>\n",
       "      <td>3</td>\n",
       "      <td>1.214590</td>\n",
       "      <td>1.645454</td>\n",
       "      <td>2.040360</td>\n",
       "      <td>3.999</td>\n",
       "    </tr>\n",
       "    <tr>\n",
       "      <th>1</th>\n",
       "      <td>1.600</td>\n",
       "      <td>3</td>\n",
       "      <td>0.804845</td>\n",
       "      <td>1.156956</td>\n",
       "      <td>1.043933</td>\n",
       "      <td>3.299</td>\n",
       "    </tr>\n",
       "    <tr>\n",
       "      <th>2</th>\n",
       "      <td>2.400</td>\n",
       "      <td>3</td>\n",
       "      <td>1.526176</td>\n",
       "      <td>1.990969</td>\n",
       "      <td>2.735965</td>\n",
       "      <td>3.690</td>\n",
       "    </tr>\n",
       "    <tr>\n",
       "      <th>3</th>\n",
       "      <td>1.416</td>\n",
       "      <td>2</td>\n",
       "      <td>1.017324</td>\n",
       "      <td>1.048135</td>\n",
       "      <td>0.873698</td>\n",
       "      <td>2.320</td>\n",
       "    </tr>\n",
       "    <tr>\n",
       "      <th>4</th>\n",
       "      <td>3.000</td>\n",
       "      <td>4</td>\n",
       "      <td>1.352385</td>\n",
       "      <td>2.118710</td>\n",
       "      <td>2.403007</td>\n",
       "      <td>5.399</td>\n",
       "    </tr>\n",
       "  </tbody>\n",
       "</table>\n",
       "</div>"
      ],
      "text/plain": [
       "      f1  f2        f3        f4        f5  price\n",
       "0  2.104   3  1.214590  1.645454  2.040360  3.999\n",
       "1  1.600   3  0.804845  1.156956  1.043933  3.299\n",
       "2  2.400   3  1.526176  1.990969  2.735965  3.690\n",
       "3  1.416   2  1.017324  1.048135  0.873698  2.320\n",
       "4  3.000   4  1.352385  2.118710  2.403007  5.399"
      ]
     },
     "execution_count": 139,
     "metadata": {},
     "output_type": "execute_result"
    }
   ],
   "source": [
    "import sklearn as sk\n",
    "import pandas as pd\n",
    "import matplotlib.pyplot as plt\n",
    "import numpy as np\n",
    "%matplotlib inline\n",
    "\n",
    "data = pd.read_csv('ex1data3.txt', delimiter=' ', header=None, names=['x', 'f1', 'f2', 'f3', 'f4', 'f5', 'price'])\n",
    "data.drop('x', axis=1, inplace=True)\n",
    "data.head()"
   ]
  },
  {
   "cell_type": "code",
   "execution_count": 140,
   "metadata": {},
   "outputs": [],
   "source": [
    "# Train\n",
    "train = data.iloc[:30]\n",
    "xTrain = train.drop('price', axis = 1)\n",
    "yTrain = train['price']\n",
    "\n",
    "# Test\n",
    "test = data.iloc[30:]\n",
    "xTest = test.drop('price', axis = 1)\n",
    "yTest = test['price']\n"
   ]
  },
  {
   "cell_type": "code",
   "execution_count": 141,
   "metadata": {},
   "outputs": [],
   "source": [
    "from sklearn.linear_model import Ridge\n",
    "\n",
    "\n",
    "alphas = [0.0, 1.0, 2.0, 3.0, 4.0, 5.0]\n",
    "ridges = [ Ridge(alpha = alpha, solver = 'lsqr', random_state = 2).fit(xTrain, yTrain) for alpha in alphas ]\n"
   ]
  },
  {
   "cell_type": "markdown",
   "metadata": {},
   "source": [
    "## Coeficientes:"
   ]
  },
  {
   "cell_type": "code",
   "execution_count": 142,
   "metadata": {},
   "outputs": [
    {
     "name": "stdout",
     "output_type": "stream",
     "text": [
      "Coeficientes com regularização em 0: [ 2.05650083  0.12143939 -1.16137913  0.06272863 -0.39110215]\n",
      "\n",
      "Coeficientes com regularização em 1: [ 1.3391608   0.22506765  0.18015951  0.04805731 -0.24707489]\n",
      "\n",
      "Coeficientes com regularização em 2: [ 1.16265734  0.23054745  0.24910813  0.05703977 -0.11526088]\n",
      "\n",
      "Coeficientes com regularização em 3: [ 1.04932735  0.23303931  0.25988061  0.06804293 -0.03117398]\n",
      "\n",
      "Coeficientes com regularização em 4: [ 0.96594175  0.23441173  0.25770665  0.07853842  0.0254692 ]\n",
      "\n",
      "Coeficientes com regularização em 5: [ 0.89882204  0.23584201  0.25686     0.08797734  0.06416699]\n",
      "\n"
     ]
    }
   ],
   "source": [
    "coefs = [ ridge.coef_ for ridge in ridges ]\n",
    "for idx, coef in enumerate(coefs):\n",
    "    print('Coeficientes com regularização em {}: {}\\n'.format(idx, coef))"
   ]
  },
  {
   "cell_type": "markdown",
   "metadata": {},
   "source": [
    "### Conforme os preditores e os coeficientes acima, temos que as variáveis 'f2', 'f4' e 'f5' são as menos relevantes. 'f1' tem a maior relevância e, em seguida, 'f3' com sua relevância que influência negativamente a predição, dependendo do valor de lâmbda, ou se torna pouco relevante."
   ]
  },
  {
   "cell_type": "code",
   "execution_count": 143,
   "metadata": {
    "collapsed": true
   },
   "outputs": [],
   "source": [
    "# Predicts for each dataset samples: train and test\n",
    "predictsTrain = [ ridge.predict(xTrain) for ridge in ridges ]\n",
    "predictsTest = [ ridge.predict(xTest) for ridge in ridges ] "
   ]
  },
  {
   "cell_type": "code",
   "execution_count": 144,
   "metadata": {},
   "outputs": [],
   "source": [
    "# Calculate errors\n",
    "errorsTrain = [ (yTrain.iloc[idx] - yPred)**2 for predicts in predictsTrain for idx, yPred in enumerate(predicts)  ]\n",
    "errorsTest = [ (yTest.iloc[idx] - yPred)**2 for predicts in predictsTest for idx, yPred in enumerate(predicts)  ]"
   ]
  },
  {
   "cell_type": "code",
   "execution_count": 145,
   "metadata": {},
   "outputs": [],
   "source": [
    "# Calculate mean squared errors\n",
    "eqmTrainByAlpha = [ sum(errorsTrain[i*30:(i+1)*30])/30 for i in range(6) ]\n",
    "eqmTestByAlpha = [ sum(errorsTest[i*17:(i+1)*17])/17 for i in range(6) ]"
   ]
  },
  {
   "cell_type": "markdown",
   "metadata": {},
   "source": [
    "### Gráfico da relação EQM x lâmbda para os dados de Treino"
   ]
  },
  {
   "cell_type": "code",
   "execution_count": 146,
   "metadata": {},
   "outputs": [
    {
     "data": {
      "text/plain": [
       "<matplotlib.text.Text at 0x7f5215636748>"
      ]
     },
     "execution_count": 146,
     "metadata": {},
     "output_type": "execute_result"
    },
    {
     "data": {
      "image/png": "[encoded data removed]",
      "text/plain": [
       "<matplotlib.figure.Figure at 0x7f52155fd9b0>"
      ]
     },
     "metadata": {},
     "output_type": "display_data"
    }
   ],
   "source": [
    "plt.plot(range(6), eqmTrainByAlpha, '-')\n",
    "plt.xlabel('Lâmbda')\n",
    "plt.ylabel('EQM')\n",
    "plt.title('EQM x Lâmbda (Treino)')"
   ]
  },
  {
   "cell_type": "code",
   "execution_count": 147,
   "metadata": {},
   "outputs": [
    {
     "data": {
      "text/plain": [
       "[0.43133131025279897,\n",
       " 0.45572830753894578,\n",
       " 0.47765354145331035,\n",
       " 0.4985661552465806,\n",
       " 0.51791467596594898,\n",
       " 0.53580547550987956]"
      ]
     },
     "execution_count": 147,
     "metadata": {},
     "output_type": "execute_result"
    }
   ],
   "source": [
    "eqmTrainByAlpha"
   ]
  },
  {
   "cell_type": "markdown",
   "metadata": {},
   "source": [
    "### Gráfico da relação EQM x lâmbda para os dados de Treino"
   ]
  },
  {
   "cell_type": "code",
   "execution_count": 148,
   "metadata": {},
   "outputs": [
    {
     "data": {
      "text/plain": [
       "<matplotlib.text.Text at 0x7f521554d8d0>"
      ]
     },
     "execution_count": 148,
     "metadata": {},
     "output_type": "execute_result"
    },
    {
     "data": {
      "image/png": "[encoded data removed]",
      "text/plain": [
       "<matplotlib.figure.Figure at 0x7f521558ab70>"
      ]
     },
     "metadata": {},
     "output_type": "display_data"
    }
   ],
   "source": [
    "plt.plot(range(6), eqmTestByAlpha, '-')\n",
    "plt.xlabel('Lâmbda')\n",
    "plt.ylabel('EQM')\n",
    "plt.title('EQM x Lâmbda (Teste)')"
   ]
  },
  {
   "cell_type": "code",
   "execution_count": 149,
   "metadata": {},
   "outputs": [
    {
     "data": {
      "text/plain": [
       "[0.50535896199943098,\n",
       " 0.47996521204329834,\n",
       " 0.44294906336770312,\n",
       " 0.42391932729397092,\n",
       " 0.41422426186891448,\n",
       " 0.41035528041906189]"
      ]
     },
     "execution_count": 149,
     "metadata": {},
     "output_type": "execute_result"
    }
   ],
   "source": [
    "eqmTestByAlpha"
   ]
  },
  {
   "cell_type": "markdown",
   "metadata": {},
   "source": [
    "### Para os dados de treino, percebemos um crescimento no EQM conforme lâmbda aumenta, diferente do conjunto de testes. Esse comportamento ocorre pois, com lâmbda = 0, temos a regressão com o modelo linear normal, com ênfase nos preditores que mais refletem na relação linear com y, adaptado ao conjunto de treino. No momento em que lâmbda aumenta, a ideia é o modelo se tornar cada vez mais simples, dado que minimiza a função em custo dos coeficientes, podendo refletir na importância de cada preditor. Assim, a intenção é generalizar o modelo cada vez mais, por isso o aumento de EQM no conjunto de treino. De mesmo modo ocorre com o conjunto de teste, pois ainda com lâmbda = 0, o EQM no conjunto de testes é o mais alto, significando que o modelo estava \"adaptado\" ao conjunto de treino (overfitting), mas não generalizado suficiente ao conjunto de teste. Assim, ao aumentar lâmbda, com o modelo mais generalizado, EQM de treino aumenta e EQM de testes tende a diminuir. "
   ]
  },
  {
   "cell_type": "code",
   "execution_count": null,
   "metadata": {
    "collapsed": true
   },
   "outputs": [],
   "source": []
  }
 ],
 "metadata": {
  "kernelspec": {
   "display_name": "Python 3",
   "language": "python",
   "name": "python3"
  },
  "language_info": {
   "codemirror_mode": {
    "name": "ipython",
    "version": 3
   },
   "file_extension": ".py",
   "mimetype": "text/x-python",
   "name": "python",
   "nbconvert_exporter": "python",
   "pygments_lexer": "ipython3",
   "version": "3.6.1"
  }
 },
 "nbformat": 4,
 "nbformat_minor": 2
}
