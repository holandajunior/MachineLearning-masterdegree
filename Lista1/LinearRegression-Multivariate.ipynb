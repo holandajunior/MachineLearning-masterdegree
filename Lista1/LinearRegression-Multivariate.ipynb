{
 "cells": [
  {
   "cell_type": "markdown",
   "metadata": {},
   "source": [
    "# Regressão Linear - Multivariada"
   ]
  },
  {
   "cell_type": "code",
   "execution_count": 103,
   "metadata": {},
   "outputs": [
    {
     "data": {
      "text/html": [
       "<div>\n",
       "<style>\n",
       "    .dataframe thead tr:only-child th {\n",
       "        text-align: right;\n",
       "    }\n",
       "\n",
       "    .dataframe thead th {\n",
       "        text-align: left;\n",
       "    }\n",
       "\n",
       "    .dataframe tbody tr th {\n",
       "        vertical-align: top;\n",
       "    }\n",
       "</style>\n",
       "<table border=\"1\" class=\"dataframe\">\n",
       "  <thead>\n",
       "    <tr style=\"text-align: right;\">\n",
       "      <th></th>\n",
       "      <th>area</th>\n",
       "      <th>bedroom</th>\n",
       "      <th>price</th>\n",
       "    </tr>\n",
       "  </thead>\n",
       "  <tbody>\n",
       "    <tr>\n",
       "      <th>0</th>\n",
       "      <td>2.104</td>\n",
       "      <td>3</td>\n",
       "      <td>3.999</td>\n",
       "    </tr>\n",
       "    <tr>\n",
       "      <th>1</th>\n",
       "      <td>1.600</td>\n",
       "      <td>3</td>\n",
       "      <td>3.299</td>\n",
       "    </tr>\n",
       "    <tr>\n",
       "      <th>2</th>\n",
       "      <td>2.400</td>\n",
       "      <td>3</td>\n",
       "      <td>3.690</td>\n",
       "    </tr>\n",
       "    <tr>\n",
       "      <th>3</th>\n",
       "      <td>1.416</td>\n",
       "      <td>2</td>\n",
       "      <td>2.320</td>\n",
       "    </tr>\n",
       "    <tr>\n",
       "      <th>4</th>\n",
       "      <td>3.000</td>\n",
       "      <td>4</td>\n",
       "      <td>5.399</td>\n",
       "    </tr>\n",
       "  </tbody>\n",
       "</table>\n",
       "</div>"
      ],
      "text/plain": [
       "    area  bedroom  price\n",
       "0  2.104        3  3.999\n",
       "1  1.600        3  3.299\n",
       "2  2.400        3  3.690\n",
       "3  1.416        2  2.320\n",
       "4  3.000        4  5.399"
      ]
     },
     "execution_count": 103,
     "metadata": {},
     "output_type": "execute_result"
    }
   ],
   "source": [
    "import sklearn as sk\n",
    "import pandas as pd\n",
    "import matplotlib.pyplot as plt\n",
    "import numpy as np\n",
    "%matplotlib inline\n",
    "\n",
    "data = pd.read_csv('ex1data2.txt', delimiter=' ', header=None, names=['x', 'area', 'bedroom', 'price'])\n",
    "data.drop('x', axis=1, inplace=True)\n",
    "data.head()"
   ]
  },
  {
   "cell_type": "code",
   "execution_count": 104,
   "metadata": {},
   "outputs": [
    {
     "data": {
      "text/html": [
       "<div>\n",
       "<style>\n",
       "    .dataframe thead tr:only-child th {\n",
       "        text-align: right;\n",
       "    }\n",
       "\n",
       "    .dataframe thead th {\n",
       "        text-align: left;\n",
       "    }\n",
       "\n",
       "    .dataframe tbody tr th {\n",
       "        vertical-align: top;\n",
       "    }\n",
       "</style>\n",
       "<table border=\"1\" class=\"dataframe\">\n",
       "  <thead>\n",
       "    <tr style=\"text-align: right;\">\n",
       "      <th></th>\n",
       "      <th>area</th>\n",
       "      <th>bedroom</th>\n",
       "      <th>price</th>\n",
       "    </tr>\n",
       "  </thead>\n",
       "  <tbody>\n",
       "    <tr>\n",
       "      <th>area</th>\n",
       "      <td>1.000000</td>\n",
       "      <td>0.559967</td>\n",
       "      <td>0.854988</td>\n",
       "    </tr>\n",
       "    <tr>\n",
       "      <th>bedroom</th>\n",
       "      <td>0.559967</td>\n",
       "      <td>1.000000</td>\n",
       "      <td>0.442261</td>\n",
       "    </tr>\n",
       "    <tr>\n",
       "      <th>price</th>\n",
       "      <td>0.854988</td>\n",
       "      <td>0.442261</td>\n",
       "      <td>1.000000</td>\n",
       "    </tr>\n",
       "  </tbody>\n",
       "</table>\n",
       "</div>"
      ],
      "text/plain": [
       "             area   bedroom     price\n",
       "area     1.000000  0.559967  0.854988\n",
       "bedroom  0.559967  1.000000  0.442261\n",
       "price    0.854988  0.442261  1.000000"
      ]
     },
     "execution_count": 104,
     "metadata": {},
     "output_type": "execute_result"
    }
   ],
   "source": [
    "data.corr()"
   ]
  },
  {
   "cell_type": "markdown",
   "metadata": {},
   "source": [
    "### Conforme a correlação de Pearson, temos uma relação forte entre o preço do imóvel e a área do mesmo"
   ]
  },
  {
   "cell_type": "code",
   "execution_count": 107,
   "metadata": {},
   "outputs": [
    {
     "name": "stdout",
     "output_type": "stream",
     "text": [
      "Coeficientes Gradiente Estocástico: [ 0.85656278  1.33240663 -0.09260926]\n"
     ]
    },
    {
     "data": {
      "image/png": "[encoded data removed]",
      "text/plain": [
       "<matplotlib.figure.Figure at 0x7fc1a8a9a358>"
      ]
     },
     "metadata": {},
     "output_type": "display_data"
    }
   ],
   "source": [
    "from sklearn.utils import shuffle\n",
    "\n",
    "eta = 0.01\n",
    "epochs = 100\n",
    "errors = []\n",
    "\n",
    "\n",
    "def predict(X, theta):\n",
    "    return theta[0] + np.dot(X, theta[1:])\n",
    "\n",
    "def sgd(X, y, eta, epochs):\n",
    "    theta = np.random.randn(1 + X.shape[1])\n",
    "        \n",
    "    for epoch in range(epochs):\n",
    "        sum_error = 0\n",
    "        \n",
    "        for f, target in zip(X,y):\n",
    "            ypred = predict(f, theta)\n",
    "            error = target - ypred\n",
    "            sum_error += error**2\n",
    "            update = eta * error\n",
    "            \n",
    "            theta[0] += update\n",
    "            theta[1:] += update * f\n",
    "            \n",
    "        \n",
    "        errors.append(sum_error/X.shape[0])\n",
    "    \n",
    "    return theta\n",
    "\n",
    "dataFeatures = data.drop('price', axis=1).as_matrix()\n",
    "dataTarget = data['price'].as_matrix()\n",
    "\n",
    "theta = sgd(dataFeatures, dataTarget, eta, epochs)\n",
    "errors = np.array(errors)\n",
    "\n",
    "plt.plot(np.arange(1, errors.shape[0]+1), errors, '-')\n",
    "plt.title(\"Épocas x EQM\")\n",
    "plt.xlabel('Épocas')\n",
    "plt.ylabel('EQM')\n",
    "print(\"Coeficientes Gradiente Estocástico: {}\".format(theta))"
   ]
  },
  {
   "cell_type": "markdown",
   "metadata": {},
   "source": [
    "### Seguindo a mesma ideia do problema de Regressão Linear Univariada, temos que o algoritmo aprende, conforme o EQM diminui, mas até um certo ponto, esse o qual representa, aproximadamente, a época 20. A partir de então, o aprendizado não é tão significativo."
   ]
  },
  {
   "cell_type": "code",
   "execution_count": 108,
   "metadata": {},
   "outputs": [
    {
     "name": "stdout",
     "output_type": "stream",
     "text": [
      "Coeficientes Minimos Quadrados: [ 0.8959791   1.39210674 -0.08738019]\n"
     ]
    }
   ],
   "source": [
    "from numpy.linalg import inv\n",
    "\n",
    "dataFeaturesWithOnes = np.ones((dataFeatures.shape[0], dataFeatures.shape[1]+1))\n",
    "dataFeaturesWithOnes[:,1:] = dataFeatures\n",
    "\n",
    "dataTranspose = np.transpose(dataFeaturesWithOnes)\n",
    "\n",
    "thetaLeastSquares = np.dot( np.dot( inv( np.dot(dataTranspose, dataFeaturesWithOnes) ), dataTranspose ), dataTarget )\n",
    "print('Coeficientes Minimos Quadrados: {}'.format(thetaLeastSquares))"
   ]
  },
  {
   "cell_type": "markdown",
   "metadata": {},
   "source": [
    "### Conforme os resultados dos coeficientes, podemos reparar valores próximos, mas distintos. Mesmo que o processo dos Mínimos Quadrados seja minimizar o somatórios do erros quadráticos, tal fator ocorre pois o processo dos Mínimos Quadrados ocorre em Batch, desconsiderando a evolução dos coeficientes durante o processo. Assim, conforme o processo do Gradiente Estocástico, os coeficientes são atualizados em cada iteração sobre os dados, ou seja, para cada linha de dados, o processo atualiza. "
   ]
  },
  {
   "cell_type": "code",
   "execution_count": null,
   "metadata": {
    "collapsed": true
   },
   "outputs": [],
   "source": []
  }
 ],
 "metadata": {
  "kernelspec": {
   "display_name": "Python 3",
   "language": "python",
   "name": "python3"
  },
  "language_info": {
   "codemirror_mode": {
    "name": "ipython",
    "version": 3
   },
   "file_extension": ".py",
   "mimetype": "text/x-python",
   "name": "python",
   "nbconvert_exporter": "python",
   "pygments_lexer": "ipython3",
   "version": "3.6.1"
  }
 },
 "nbformat": 4,
 "nbformat_minor": 2
}
