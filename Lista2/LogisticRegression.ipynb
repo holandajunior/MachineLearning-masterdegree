{
 "cells": [
  {
   "cell_type": "markdown",
   "metadata": {},
   "source": [
    "## Regressão Logística"
   ]
  },
  {
   "cell_type": "code",
   "execution_count": 82,
   "metadata": {
    "collapsed": true
   },
   "outputs": [],
   "source": [
    "import pandas as pd\n",
    "import sklearn\n",
    "import matplotlib.pyplot as plt\n",
    "import math\n",
    "import numpy as np\n",
    "%matplotlib inline\n",
    "\n"
   ]
  },
  {
   "cell_type": "code",
   "execution_count": 43,
   "metadata": {},
   "outputs": [
    {
     "data": {
      "text/html": [
       "<div>\n",
       "<style>\n",
       "    .dataframe thead tr:only-child th {\n",
       "        text-align: right;\n",
       "    }\n",
       "\n",
       "    .dataframe thead th {\n",
       "        text-align: left;\n",
       "    }\n",
       "\n",
       "    .dataframe tbody tr th {\n",
       "        vertical-align: top;\n",
       "    }\n",
       "</style>\n",
       "<table border=\"1\" class=\"dataframe\">\n",
       "  <thead>\n",
       "    <tr style=\"text-align: right;\">\n",
       "      <th></th>\n",
       "      <th>test1</th>\n",
       "      <th>test2</th>\n",
       "      <th>approved</th>\n",
       "    </tr>\n",
       "  </thead>\n",
       "  <tbody>\n",
       "    <tr>\n",
       "      <th>0</th>\n",
       "      <td>34.623660</td>\n",
       "      <td>78.024693</td>\n",
       "      <td>0</td>\n",
       "    </tr>\n",
       "    <tr>\n",
       "      <th>1</th>\n",
       "      <td>30.286711</td>\n",
       "      <td>43.894998</td>\n",
       "      <td>0</td>\n",
       "    </tr>\n",
       "    <tr>\n",
       "      <th>2</th>\n",
       "      <td>35.847409</td>\n",
       "      <td>72.902198</td>\n",
       "      <td>0</td>\n",
       "    </tr>\n",
       "    <tr>\n",
       "      <th>3</th>\n",
       "      <td>60.182599</td>\n",
       "      <td>86.308552</td>\n",
       "      <td>1</td>\n",
       "    </tr>\n",
       "    <tr>\n",
       "      <th>4</th>\n",
       "      <td>79.032736</td>\n",
       "      <td>75.344376</td>\n",
       "      <td>1</td>\n",
       "    </tr>\n",
       "  </tbody>\n",
       "</table>\n",
       "</div>"
      ],
      "text/plain": [
       "       test1      test2  approved\n",
       "0  34.623660  78.024693         0\n",
       "1  30.286711  43.894998         0\n",
       "2  35.847409  72.902198         0\n",
       "3  60.182599  86.308552         1\n",
       "4  79.032736  75.344376         1"
      ]
     },
     "execution_count": 43,
     "metadata": {},
     "output_type": "execute_result"
    }
   ],
   "source": [
    "data = pd.read_csv('ex2data1.txt', header = None, names = ['test1', 'test2', 'approved'])\n",
    "data.head()"
   ]
  },
  {
   "cell_type": "code",
   "execution_count": 44,
   "metadata": {},
   "outputs": [
    {
     "name": "stdout",
     "output_type": "stream",
     "text": [
      "Dados Normalizados:\n"
     ]
    },
    {
     "data": {
      "text/html": [
       "<div>\n",
       "<style>\n",
       "    .dataframe thead tr:only-child th {\n",
       "        text-align: right;\n",
       "    }\n",
       "\n",
       "    .dataframe thead th {\n",
       "        text-align: left;\n",
       "    }\n",
       "\n",
       "    .dataframe tbody tr th {\n",
       "        vertical-align: top;\n",
       "    }\n",
       "</style>\n",
       "<table border=\"1\" class=\"dataframe\">\n",
       "  <thead>\n",
       "    <tr style=\"text-align: right;\">\n",
       "      <th></th>\n",
       "      <th>test1</th>\n",
       "      <th>test2</th>\n",
       "      <th>approved</th>\n",
       "    </tr>\n",
       "  </thead>\n",
       "  <tbody>\n",
       "    <tr>\n",
       "      <th>0</th>\n",
       "      <td>0.405610</td>\n",
       "      <td>0.914046</td>\n",
       "      <td>0</td>\n",
       "    </tr>\n",
       "    <tr>\n",
       "      <th>1</th>\n",
       "      <td>0.567915</td>\n",
       "      <td>0.823087</td>\n",
       "      <td>0</td>\n",
       "    </tr>\n",
       "    <tr>\n",
       "      <th>2</th>\n",
       "      <td>0.441259</td>\n",
       "      <td>0.897380</td>\n",
       "      <td>0</td>\n",
       "    </tr>\n",
       "    <tr>\n",
       "      <th>3</th>\n",
       "      <td>0.571973</td>\n",
       "      <td>0.820273</td>\n",
       "      <td>1</td>\n",
       "    </tr>\n",
       "    <tr>\n",
       "      <th>4</th>\n",
       "      <td>0.723794</td>\n",
       "      <td>0.690016</td>\n",
       "      <td>1</td>\n",
       "    </tr>\n",
       "  </tbody>\n",
       "</table>\n",
       "</div>"
      ],
      "text/plain": [
       "      test1     test2  approved\n",
       "0  0.405610  0.914046         0\n",
       "1  0.567915  0.823087         0\n",
       "2  0.441259  0.897380         0\n",
       "3  0.571973  0.820273         1\n",
       "4  0.723794  0.690016         1"
      ]
     },
     "execution_count": 44,
     "metadata": {},
     "output_type": "execute_result"
    }
   ],
   "source": [
    "#Normalizing\n",
    "from sklearn.preprocessing import Normalizer\n",
    "\n",
    "normalizer = Normalizer()\n",
    "dataValuesNormalized = normalizer.fit_transform( data.drop('approved', axis = 1).values )\n",
    "dataNormalized = pd.DataFrame( dataValuesNormalized, columns = ['test1', 'test2'] )\n",
    "dataNormalized['approved'] = data['approved']\n",
    "\n",
    "print('Dados Normalizados:')\n",
    "dataNormalized.head()"
   ]
  },
  {
   "cell_type": "markdown",
   "metadata": {},
   "source": [
    "### Gráfico"
   ]
  },
  {
   "cell_type": "code",
   "execution_count": 45,
   "metadata": {},
   "outputs": [
    {
     "data": {
      "text/plain": [
       "<matplotlib.text.Text at 0x7efef113a0b8>"
      ]
     },
     "execution_count": 45,
     "metadata": {},
     "output_type": "execute_result"
    },
    {
     "data": {
      "image/png": "[encoded data removed]",
      "text/plain": [
       "<matplotlib.figure.Figure at 0x7efef158bf60>"
      ]
     },
     "metadata": {},
     "output_type": "display_data"
    }
   ],
   "source": [
    "#Data plotting\n",
    "plt.scatter(x = data['test1'], y = data['test2'], \n",
    "            c = data['approved'], cmap = plt.get_cmap('jet'))\n",
    "cbar = plt.colorbar()\n",
    "plt.xlabel('test1')\n",
    "plt.ylabel('test2')\n",
    "plt.title('Aprovados x Não Aprovados')"
   ]
  },
  {
   "cell_type": "code",
   "execution_count": 112,
   "metadata": {
    "collapsed": true
   },
   "outputs": [],
   "source": [
    "# Stochastic Gradient Descent\n",
    "def predict(X, theta):\n",
    "    linear = theta[0] + np.dot(X, theta[1:])\n",
    "    return float(1) / ( 1 + math.exp(-linear) )\n",
    "\n",
    "def sgd(X_train, y_train, X_test, y_test, eta, epochs):\n",
    "    theta = np.random.randn(1 + X_train.shape[1])\n",
    "    errors = []\n",
    "    \n",
    "    for epoch in range(epochs):\n",
    "        sum_error = 0\n",
    "        \n",
    "        for f, target in zip(X_train,y_train):\n",
    "            ypred = predict(f, theta)\n",
    "            error = target - ypred\n",
    "            # Cost Function\n",
    "            update = eta * error * ypred * (1 - ypred)\n",
    "            \n",
    "            theta[0] += update\n",
    "            theta[1:] += update * f\n",
    "        \n",
    "        for f_Test, targetTest in zip(X_test, y_test):\n",
    "            ypred = predict(f_Test, theta)\n",
    "            error = targetTest - ypred\n",
    "            sum_error = error**2    \n",
    "        \n",
    "        errors.append(sum_error/X_test.shape[0])\n",
    "    \n",
    "    return (theta, np.array(errors))\n"
   ]
  },
  {
   "cell_type": "code",
   "execution_count": 113,
   "metadata": {},
   "outputs": [],
   "source": [
    "# Samples\n",
    "dataTrain = dataNormalized.iloc[:70]\n",
    "dataTest = dataNormalized.iloc[70:]\n",
    "\n",
    "# Train Data\n",
    "dataTrain_X = dataTrain.drop('approved', axis = 1)\n",
    "dataTrain_Y = dataTrain['approved']\n",
    "\n",
    "# Test Data\n",
    "dataTest_X = dataTest.drop('approved', axis = 1)\n",
    "dataTest_Y = dataTest['approved']\n"
   ]
  },
  {
   "cell_type": "code",
   "execution_count": 114,
   "metadata": {},
   "outputs": [],
   "source": [
    "#Hyperparameters\n",
    "eta = 0.01\n",
    "epochs = 1000"
   ]
  },
  {
   "cell_type": "code",
   "execution_count": 115,
   "metadata": {},
   "outputs": [],
   "source": [
    "theta, errors = sgd( dataTrain_X.values, dataTrain_Y.values, dataTest_X.values, dataTest_Y.values, eta, epochs )"
   ]
  },
  {
   "cell_type": "markdown",
   "metadata": {},
   "source": [
    "## Resultados"
   ]
  },
  {
   "cell_type": "markdown",
   "metadata": {},
   "source": [
    "### Coeficientes finais"
   ]
  },
  {
   "cell_type": "code",
   "execution_count": 123,
   "metadata": {},
   "outputs": [
    {
     "name": "stdout",
     "output_type": "stream",
     "text": [
      "[-0.65996321  1.50801104 -0.42896584]\n"
     ]
    }
   ],
   "source": [
    "print(theta)"
   ]
  },
  {
   "cell_type": "markdown",
   "metadata": {},
   "source": [
    "### Gráfico"
   ]
  },
  {
   "cell_type": "code",
   "execution_count": 121,
   "metadata": {},
   "outputs": [
    {
     "data": {
      "text/plain": [
       "<matplotlib.text.Text at 0x7efef0d4f208>"
      ]
     },
     "execution_count": 121,
     "metadata": {},
     "output_type": "execute_result"
    },
    {
     "data": {
      "image/png": "[encoded data removed]",
      "text/plain": [
       "<matplotlib.figure.Figure at 0x7efef0d7f748>"
      ]
     },
     "metadata": {},
     "output_type": "display_data"
    }
   ],
   "source": [
    "plt.plot( np.arange(1, errors.shape[0]+1), errors, '-' )\n",
    "plt.xlabel('Épocas')\n",
    "plt.ylabel('Error de classificação')\n",
    "plt.title('Epocas x Erro: conjunto de teste')\n"
   ]
  },
  {
   "cell_type": "markdown",
   "metadata": {},
   "source": [
    "### Erro de classificação final"
   ]
  },
  {
   "cell_type": "code",
   "execution_count": 124,
   "metadata": {},
   "outputs": [
    {
     "data": {
      "text/plain": [
       "0.0085220168165226137"
      ]
     },
     "execution_count": 124,
     "metadata": {},
     "output_type": "execute_result"
    }
   ],
   "source": [
    "errors[-1]"
   ]
  },
  {
   "cell_type": "markdown",
   "metadata": {},
   "source": [
    "### Podemos observar, a partir do gráfico, que o algoritmo está aprendendo conforme a iteração das épocas. No entanto, o aprendizado é substancial até a época 70 aproximadamente, pois a partir de então, o erro é constante, não significando mais aprendizado"
   ]
  },
  {
   "cell_type": "markdown",
   "metadata": {},
   "source": [
    "### Executando Kfold, com K = 10"
   ]
  },
  {
   "cell_type": "code",
   "execution_count": 125,
   "metadata": {
    "collapsed": true
   },
   "outputs": [],
   "source": [
    "from sklearn.model_selection import KFold\n",
    "kf = KFold(n_splits=10)\n",
    "\n",
    "dataNormalizedX = dataNormalized.drop('approved', axis = 1).values\n",
    "dataNormalizedY = dataNormalized['approved'].values\n",
    "\n",
    "thetas = []\n",
    "\n",
    "for train_indexes, test_indexes in kf.split(dataNormalizedX):\n",
    "    X_train, X_test = dataNormalizedX[train_indexes], dataNormalizedX[test_indexes]\n",
    "    y_train, y_test = dataNormalizedY[train_indexes], dataNormalizedY[test_indexes]\n",
    "    \n",
    "    theta, errors = sgd( X_train, y_train, X_test, y_test, eta, epochs )\n",
    "    thetas.append(theta)"
   ]
  },
  {
   "cell_type": "markdown",
   "metadata": {},
   "source": [
    "### Coeficientes:"
   ]
  },
  {
   "cell_type": "code",
   "execution_count": 131,
   "metadata": {},
   "outputs": [
    {
     "name": "stdout",
     "output_type": "stream",
     "text": [
      "[[ 0.70541286 -0.38768587 -0.00809941]\n",
      " [-1.34728826  2.21626864  0.38018069]\n",
      " [ 0.59552662  0.68763263 -0.75776238]\n",
      " [ 0.82192019 -0.09614136 -0.34162538]\n",
      " [ 1.23254335  0.02407402 -1.1571358 ]\n",
      " [ 0.29120896  0.11658831  0.07824913]\n",
      " [ 0.01348592  1.14513744 -0.39179661]\n",
      " [ 0.11169786  1.32729054 -0.90085418]\n",
      " [-0.76556357  1.25828535  0.33422654]\n",
      " [-0.10306264  0.97746334 -0.38677226]]\n"
     ]
    }
   ],
   "source": [
    "print(np.array(thetas))"
   ]
  },
  {
   "cell_type": "code",
   "execution_count": null,
   "metadata": {
    "collapsed": true
   },
   "outputs": [],
   "source": []
  }
 ],
 "metadata": {
  "kernelspec": {
   "display_name": "Python 3",
   "language": "python",
   "name": "python3"
  },
  "language_info": {
   "codemirror_mode": {
    "name": "ipython",
    "version": 3
   },
   "file_extension": ".py",
   "mimetype": "text/x-python",
   "name": "python",
   "nbconvert_exporter": "python",
   "pygments_lexer": "ipython3",
   "version": "3.6.1"
  }
 },
 "nbformat": 4,
 "nbformat_minor": 2
}
