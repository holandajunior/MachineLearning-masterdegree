{
 "cells": [
  {
   "cell_type": "markdown",
   "metadata": {},
   "source": [
    "# Regressão Logística - Regularizada"
   ]
  },
  {
   "cell_type": "code",
   "execution_count": 47,
   "metadata": {
    "collapsed": true
   },
   "outputs": [],
   "source": [
    "import pandas as pd\n",
    "import sklearn\n",
    "import matplotlib.pyplot as plt\n",
    "import math\n",
    "import numpy as np\n",
    "from IPython.display import Image\n",
    "%matplotlib inline"
   ]
  },
  {
   "cell_type": "code",
   "execution_count": 2,
   "metadata": {},
   "outputs": [
    {
     "data": {
      "text/html": [
       "<div>\n",
       "<style>\n",
       "    .dataframe thead tr:only-child th {\n",
       "        text-align: right;\n",
       "    }\n",
       "\n",
       "    .dataframe thead th {\n",
       "        text-align: left;\n",
       "    }\n",
       "\n",
       "    .dataframe tbody tr th {\n",
       "        vertical-align: top;\n",
       "    }\n",
       "</style>\n",
       "<table border=\"1\" class=\"dataframe\">\n",
       "  <thead>\n",
       "    <tr style=\"text-align: right;\">\n",
       "      <th></th>\n",
       "      <th>score1</th>\n",
       "      <th>score2</th>\n",
       "      <th>approved</th>\n",
       "    </tr>\n",
       "  </thead>\n",
       "  <tbody>\n",
       "    <tr>\n",
       "      <th>0</th>\n",
       "      <td>0.051267</td>\n",
       "      <td>0.69956</td>\n",
       "      <td>1</td>\n",
       "    </tr>\n",
       "    <tr>\n",
       "      <th>1</th>\n",
       "      <td>-0.092742</td>\n",
       "      <td>0.68494</td>\n",
       "      <td>1</td>\n",
       "    </tr>\n",
       "    <tr>\n",
       "      <th>2</th>\n",
       "      <td>-0.213710</td>\n",
       "      <td>0.69225</td>\n",
       "      <td>1</td>\n",
       "    </tr>\n",
       "    <tr>\n",
       "      <th>3</th>\n",
       "      <td>-0.375000</td>\n",
       "      <td>0.50219</td>\n",
       "      <td>1</td>\n",
       "    </tr>\n",
       "    <tr>\n",
       "      <th>4</th>\n",
       "      <td>-0.513250</td>\n",
       "      <td>0.46564</td>\n",
       "      <td>1</td>\n",
       "    </tr>\n",
       "  </tbody>\n",
       "</table>\n",
       "</div>"
      ],
      "text/plain": [
       "     score1   score2  approved\n",
       "0  0.051267  0.69956         1\n",
       "1 -0.092742  0.68494         1\n",
       "2 -0.213710  0.69225         1\n",
       "3 -0.375000  0.50219         1\n",
       "4 -0.513250  0.46564         1"
      ]
     },
     "execution_count": 2,
     "metadata": {},
     "output_type": "execute_result"
    }
   ],
   "source": [
    "data = pd.read_csv('ex2data2.txt', header = None, names = ['score1', 'score2', 'approved'])\n",
    "data.head()"
   ]
  },
  {
   "cell_type": "code",
   "execution_count": 3,
   "metadata": {},
   "outputs": [
    {
     "name": "stdout",
     "output_type": "stream",
     "text": [
      "Dados Normalizados:\n"
     ]
    },
    {
     "data": {
      "text/html": [
       "<div>\n",
       "<style>\n",
       "    .dataframe thead tr:only-child th {\n",
       "        text-align: right;\n",
       "    }\n",
       "\n",
       "    .dataframe thead th {\n",
       "        text-align: left;\n",
       "    }\n",
       "\n",
       "    .dataframe tbody tr th {\n",
       "        vertical-align: top;\n",
       "    }\n",
       "</style>\n",
       "<table border=\"1\" class=\"dataframe\">\n",
       "  <thead>\n",
       "    <tr style=\"text-align: right;\">\n",
       "      <th></th>\n",
       "      <th>test1</th>\n",
       "      <th>test2</th>\n",
       "      <th>approved</th>\n",
       "    </tr>\n",
       "  </thead>\n",
       "  <tbody>\n",
       "    <tr>\n",
       "      <th>0</th>\n",
       "      <td>0.073089</td>\n",
       "      <td>0.997325</td>\n",
       "      <td>1</td>\n",
       "    </tr>\n",
       "    <tr>\n",
       "      <th>1</th>\n",
       "      <td>-0.134177</td>\n",
       "      <td>0.990957</td>\n",
       "      <td>1</td>\n",
       "    </tr>\n",
       "    <tr>\n",
       "      <th>2</th>\n",
       "      <td>-0.294981</td>\n",
       "      <td>0.955503</td>\n",
       "      <td>1</td>\n",
       "    </tr>\n",
       "    <tr>\n",
       "      <th>3</th>\n",
       "      <td>-0.598321</td>\n",
       "      <td>0.801256</td>\n",
       "      <td>1</td>\n",
       "    </tr>\n",
       "    <tr>\n",
       "      <th>4</th>\n",
       "      <td>-0.740623</td>\n",
       "      <td>0.671921</td>\n",
       "      <td>1</td>\n",
       "    </tr>\n",
       "  </tbody>\n",
       "</table>\n",
       "</div>"
      ],
      "text/plain": [
       "      test1     test2  approved\n",
       "0  0.073089  0.997325         1\n",
       "1 -0.134177  0.990957         1\n",
       "2 -0.294981  0.955503         1\n",
       "3 -0.598321  0.801256         1\n",
       "4 -0.740623  0.671921         1"
      ]
     },
     "execution_count": 3,
     "metadata": {},
     "output_type": "execute_result"
    }
   ],
   "source": [
    "#Normalizing\n",
    "from sklearn.preprocessing import Normalizer\n",
    "\n",
    "normalizer = Normalizer()\n",
    "dataValuesNormalized = normalizer.fit_transform( data.drop('approved', axis = 1).values )\n",
    "dataNormalized = pd.DataFrame( dataValuesNormalized, columns = ['test1', 'test2'] )\n",
    "dataNormalized['approved'] = data['approved']\n",
    "\n",
    "print('Dados Normalizados:')\n",
    "dataNormalized.head()"
   ]
  },
  {
   "cell_type": "markdown",
   "metadata": {},
   "source": [
    "## Gráfico"
   ]
  },
  {
   "cell_type": "code",
   "execution_count": 4,
   "metadata": {},
   "outputs": [
    {
     "data": {
      "text/plain": [
       "<matplotlib.text.Text at 0x7f1260b87f98>"
      ]
     },
     "execution_count": 4,
     "metadata": {},
     "output_type": "execute_result"
    },
    {
     "data": {
      "image/png": "[encoded data removed]",
      "text/plain": [
       "<matplotlib.figure.Figure at 0x7f126438e240>"
      ]
     },
     "metadata": {},
     "output_type": "display_data"
    }
   ],
   "source": [
    "#Data plotting\n",
    "plt.scatter(x = data['score1'], y = data['score2'], \n",
    "            c = data['approved'], cmap = plt.get_cmap('jet'))\n",
    "cbar = plt.colorbar()\n",
    "plt.xlabel('score1')\n",
    "plt.ylabel('score2')\n",
    "plt.title('Aprovados x Não Aprovados')"
   ]
  },
  {
   "cell_type": "markdown",
   "metadata": {},
   "source": [
    "## Considerando a essência linear da Regressão Logística, não é possível desenvolver um modelo linear que possa classificar corretamente os dados apresentados. No entanto, é possível estender o modelo de forma que represente a relação não linear, tal como criando outras variáveis de grau maior."
   ]
  },
  {
   "cell_type": "code",
   "execution_count": 5,
   "metadata": {
    "collapsed": true
   },
   "outputs": [],
   "source": [
    "## Mapping features\n",
    "from sklearn.preprocessing import PolynomialFeatures\n",
    "polyFeatures = PolynomialFeatures(30)\n",
    "\n",
    "dataPolynomial = polyFeatures.fit_transform(dataValuesNormalized)"
   ]
  },
  {
   "cell_type": "code",
   "execution_count": 6,
   "metadata": {
    "collapsed": true
   },
   "outputs": [],
   "source": [
    "from sklearn.linear_model import SGDClassifier\n",
    "\n",
    "eta = 0.01\n",
    "epochs = 1000\n",
    "\n",
    "reg_values = [0, 0.01, 0.25]\n",
    "modelsByRegValue = [ SGDClassifier( loss='log', penalty='l2', alpha=reg, learning_rate='constant', eta0=eta, n_iter=epochs, random_state=2 ) for reg in reg_values]"
   ]
  },
  {
   "cell_type": "code",
   "execution_count": 7,
   "metadata": {
    "collapsed": true
   },
   "outputs": [],
   "source": [
    "trainedModel = [ model.fit(dataPolynomial, data['approved'].values) for model in modelsByRegValue ]"
   ]
  },
  {
   "cell_type": "code",
   "execution_count": 8,
   "metadata": {
    "collapsed": true
   },
   "outputs": [],
   "source": [
    "thetas = [ np.array([model.intercept_, model.coef_[0]]).flatten() for model in trainedModel ]\n",
    "thetas = [ np.hstack(theta) for theta in thetas ]"
   ]
  },
  {
   "cell_type": "markdown",
   "metadata": {},
   "source": [
    "### Superfícies de decisão"
   ]
  },
  {
   "cell_type": "code",
   "execution_count": 9,
   "metadata": {
    "collapsed": true
   },
   "outputs": [],
   "source": [
    "# Predict function\n",
    "def predict(X, theta):\n",
    "    linear = theta[0] + np.dot(X, theta[1:])\n",
    "    return float(1) / ( 1 + math.exp(-linear) )"
   ]
  },
  {
   "cell_type": "code",
   "execution_count": 73,
   "metadata": {
    "collapsed": true
   },
   "outputs": [],
   "source": [
    "def plot(theta, length):\n",
    "    u = np.linspace(-1, 1.5, length)\n",
    "    v = np.linspace(-1, 1.5, length)\n",
    "    \n",
    "    z = np.zeros((len(u), len(v)))\n",
    "    valuesWithOnes = np.ones((1, length))    \n",
    "    \n",
    "    thetaAltered = theta.reshape(length, 1)\n",
    "    \n",
    "    for i in range(0, len(u)):\n",
    "        for j in range(0, len(v)):\n",
    "            vals = np.array([u[i], v[j]]).reshape(1,-1)\n",
    "            values = polyFeatures.fit_transform(vals)[0,:length-1]\n",
    "            valuesWithOnes[:,1:] = values\n",
    "                        \n",
    "            z[i,j] =  np.dot(valuesWithOnes,thetaAltered)\n",
    "\n",
    "#     dataPolynomialAltered = dataPolynomial[:length, :length]\n",
    "#     predictsAltered = predicts.reshape(1,-1)\n",
    "#     predictsAltered = np.array([predicts,]*length)\n",
    "    z = np.transpose(z)\n",
    "    \n",
    "#     print(dataPolynomialAltered.shape)\n",
    "#     print(predictsAltered.shape)\n",
    "#     print(z.shape)    \n",
    "    \n",
    "    plt.contour(u, v, z)\n",
    "    \n",
    "    #Data plotting\n",
    "#     plt.scatter(x = data['score1'], y = data['score2'], \n",
    "#                 c = data['approved'], cmap = plt.get_cmap('jet'))\n",
    "#     cbar = plt.colorbar()\n",
    "#     plt.xlabel('score1')\n",
    "#     plt.ylabel('score2')\n",
    "#     plt.title('Aprovados x Não Aprovados')\n",
    "#     plt.plot(data['score1'], predicts, '--')"
   ]
  },
  {
   "cell_type": "markdown",
   "metadata": {},
   "source": [
    "## Com regularização igual a 0.0"
   ]
  },
  {
   "cell_type": "markdown",
   "metadata": {},
   "source": [
    "<img src=\"lambda0.png\">"
   ]
  },
  {
   "cell_type": "markdown",
   "metadata": {},
   "source": [
    "## Com regularização igual a 0.01"
   ]
  },
  {
   "cell_type": "markdown",
   "metadata": {},
   "source": [
    "<img src=\"lambda1.png\">"
   ]
  },
  {
   "cell_type": "markdown",
   "metadata": {},
   "source": [
    "## Com regularização igual a 0.25"
   ]
  },
  {
   "cell_type": "markdown",
   "metadata": {
    "collapsed": true
   },
   "source": [
    "<img src=\"lambda2.png\">"
   ]
  },
  {
   "cell_type": "markdown",
   "metadata": {},
   "source": [
    "Sempre que uma função fica cada vez mais complexa, como o aumento de variáveis e o grau polinomial, temos uma\n",
    "variância maior, pois a função começa a se comportar e modificar-se conforme o dataset apresentado, fazendo com que\n",
    "se adapter àqueles dados específicos. Do contrário, o bias tende a diminuir, pois a ideia é que se consiga\n",
    "representar \"a realidade\", ou seja, o erro em relação ao que se espera, de real, seja minimizado.\n",
    "O que acontece com uma função linear, a mais simples, por exemplo, tem alto bias e baixa variância. \n",
    "Nos gráficos acima, com a regularização em 0, tivemos que a superfície de decisão se adaptou corretamente\n",
    "aos dados passados. Significa que, com o grau polinomial sem alteração/função sem alteração, tivemos uma alta\n",
    "adaptação, o que pode representar alta variação, dado que se apresentar outro conjunto de dados, essa mesma função\n",
    "tende a se adaptar perfeitamente também. No entanto, representa um bias baixo, refletindo que o erro em relação \n",
    "ao real pode ser baixo. A mesma ideia segue para as outras imagens."
   ]
  },
  {
   "cell_type": "code",
   "execution_count": null,
   "metadata": {
    "collapsed": true
   },
   "outputs": [],
   "source": []
  }
 ],
 "metadata": {
  "kernelspec": {
   "display_name": "Python 3",
   "language": "python",
   "name": "python3"
  },
  "language_info": {
   "codemirror_mode": {
    "name": "ipython",
    "version": 3
   },
   "file_extension": ".py",
   "mimetype": "text/x-python",
   "name": "python",
   "nbconvert_exporter": "python",
   "pygments_lexer": "ipython3",
   "version": "3.6.1"
  }
 },
 "nbformat": 4,
 "nbformat_minor": 2
}
